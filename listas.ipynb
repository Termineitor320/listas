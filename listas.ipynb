{
  "nbformat": 4,
  "nbformat_minor": 0,
  "metadata": {
    "colab": {
      "provenance": [],
      "authorship_tag": "ABX9TyNCQNkBIz46hEsJkPuAzd/r",
      "include_colab_link": true
    },
    "kernelspec": {
      "name": "python3",
      "display_name": "Python 3"
    },
    "language_info": {
      "name": "python"
    }
  },
  "cells": [
    {
      "cell_type": "markdown",
      "metadata": {
        "id": "view-in-github",
        "colab_type": "text"
      },
      "source": [
        "<a href=\"https://colab.research.google.com/github/Termineitor320/listas/blob/main/listas.ipynb\" target=\"_parent\"><img src=\"https://colab.research.google.com/assets/colab-badge.svg\" alt=\"Open In Colab\"/></a>"
      ]
    },
    {
      "cell_type": "markdown",
      "source": [
        "#   Listas\n",
        "\n",
        "-una lista  hace referencia hace una coleccion de datos que pueden ser numeros, cadenas o algun otro tipo.\n",
        "\n",
        "-son colecciones ordenadas de datos lo que implica que importa el orden en el cual se encuentran sus elementos.\n",
        "\n",
        "- el primer elemento ocupa la posicion 0 y el segungo la 1 y asi sucesivamente.\n",
        "\n",
        "- son mutables: una vez creada la lista, esta puede modificarse es decir se le pueden agregar o quitar elementos.\n",
        "\n",
        "- en python estan representadas por el tipo ***list*** y para definirlas se utiliza  la siguiente sintaxis:\n",
        "```nombre_lista = [valor1,valor2,...,valorn]```\n",
        "\n",
        "- los elementos pueden ser de cualquier tipo, incluso pude haber tipos diferentes en una misma lista\n",
        "\n",
        "- tambien es posible crear usando el constructor ```list()```"
      ],
      "metadata": {
        "id": "ok9vD6KNCp04"
      }
    },
    {
      "cell_type": "code",
      "execution_count": 21,
      "metadata": {
        "colab": {
          "base_uri": "https://localhost:8080/",
          "height": 315
        },
        "id": "f5sPTyRnCkwx",
        "outputId": "ca92ede6-54dc-4956-ad8f-1bc90377445c"
      },
      "outputs": [
        {
          "output_type": "stream",
          "name": "stdout",
          "text": [
            "['lunes', 'martes', 'miercoles', 'jueves', 'viernes']\n",
            "['rojo', 'amarillo', 'azul']\n",
            "[205.3, 107.18, 25, 450, 310.89, 170.23, 340]\n",
            "<class 'list'>\n",
            "[0, 2, 4, 6, 8, 10, 12, 14, 16, 18, 20, 22, 24, 26, 28]\n",
            "[29, 27, 25, 23, 21, 19, 17, 15, 13, 11, 9, 7, 5, 3, 1]\n",
            "['D', 'a', 'n', 'i', 'e', 'l', ' ', 'D', 'i', 'a', 'z']\n"
          ]
        },
        {
          "output_type": "error",
          "ename": "AttributeError",
          "evalue": "'str' object has no attribute 'slpit'",
          "traceback": [
            "\u001b[0;31m---------------------------------------------------------------------------\u001b[0m",
            "\u001b[0;31mAttributeError\u001b[0m                            Traceback (most recent call last)",
            "\u001b[0;32m<ipython-input-21-2fc52e0fe7cd>\u001b[0m in \u001b[0;36m<cell line: 0>\u001b[0;34m()\u001b[0m\n\u001b[1;32m     33\u001b[0m \u001b[0;34m\u001b[0m\u001b[0m\n\u001b[1;32m     34\u001b[0m \u001b[0mfrase\u001b[0m \u001b[0;34m=\u001b[0m \u001b[0;34m\"Daniel Diaz Fontecha\"\u001b[0m\u001b[0;34m\u001b[0m\u001b[0;34m\u001b[0m\u001b[0m\n\u001b[0;32m---> 35\u001b[0;31m \u001b[0mlista_6\u001b[0m \u001b[0;34m=\u001b[0m \u001b[0mfrase\u001b[0m\u001b[0;34m.\u001b[0m\u001b[0mslpit\u001b[0m\u001b[0;34m(\u001b[0m\u001b[0;34m)\u001b[0m\u001b[0;34m\u001b[0m\u001b[0;34m\u001b[0m\u001b[0m\n\u001b[0m\u001b[1;32m     36\u001b[0m \u001b[0mprint\u001b[0m\u001b[0;34m(\u001b[0m\u001b[0mlista_6\u001b[0m\u001b[0;34m)\u001b[0m\u001b[0;34m\u001b[0m\u001b[0;34m\u001b[0m\u001b[0m\n",
            "\u001b[0;31mAttributeError\u001b[0m: 'str' object has no attribute 'slpit'"
          ]
        }
      ],
      "source": [
        "# ejemplo 1\n",
        "\n",
        "#===============================================================================\n",
        "# usando los [] y dando valores para inicializar las listas\n",
        "#===============================================================================\n",
        "\n",
        "dias_laborables = ['lunes','martes','miercoles','jueves','viernes']\n",
        "print(dias_laborables)\n",
        "\n",
        "colores_primarios = ['rojo','amarillo','azul']\n",
        "print(colores_primarios)\n",
        "\n",
        "precios = [205.30, 107.18, 25, 450, 310.89, 170.23, 340 ]\n",
        "print(precios)\n",
        "print(type(precios))\n",
        "mezcolanza = [12, \"octubre\" , 1492, True]\n",
        "lista_vacia = []\n",
        "\n",
        "\n",
        "#===============================================================================\n",
        "# usando el constructor list()\n",
        "#===============================================================================\n",
        "\n",
        "lista_vacia_2 = list()\n",
        "lista_3 = list(range(0, 30, 2))\n",
        "print(lista_3)\n",
        "\n",
        "lista_4 = list(range(29, 0, -2))\n",
        "print(lista_4)\n",
        "\n",
        "lista_5 = list(\"Daniel Diaz\")\n",
        "print(lista_5)\n",
        "\n",
        "frase = \"Daniel Diaz Fontecha\"\n",
        "lista_6 = frase.slpit()\n",
        "print(lista_6)"
      ]
    },
    {
      "cell_type": "markdown",
      "source": [
        "## operaciones\n",
        "\n",
        "### operador +\n",
        "\n",
        "-concatenar o pegar  los elementos de una lista al final de otra\n",
        "\n",
        "### operador *\n",
        "\n",
        "- repetir la secuencia  de elementos de la lista  tantas veces  como lo indique el valor"
      ],
      "metadata": {
        "id": "01X_x4ATQ99B"
      }
    },
    {
      "cell_type": "code",
      "source": [
        "\n",
        "\n",
        "dias_laborables = ['lunes','martes','miercoles','jueves','viernes']\n",
        "\n",
        "colores_primarios = ['rojo','amarillo','azul']\n",
        "\n",
        "precios = [205.30, 107.18, 25, 450, 310.89, 170.23, 340 ]\n",
        "\n",
        "# acceso  a los elementos de una lista\n",
        "\n",
        "print(dias_laborables[0])\n",
        "print(dias_laborables[-1])\n",
        "print(dias_laborables[-5])\n",
        "\n",
        "#operador +\n",
        "\n",
        "fin_semana = [\"sabado\" , \"domingo \"]\n",
        "semana = dias_laborables + fin_semana\n",
        "print(semana)\n",
        "\n",
        "\n",
        "# operador *\n",
        "colores_primarios = colores_primarios * 3\n",
        "print(colores_primarios)\n",
        "\n"
      ],
      "metadata": {
        "colab": {
          "base_uri": "https://localhost:8080/"
        },
        "id": "tRX1cE5bRkhv",
        "outputId": "78992de3-d9e6-4c64-80ba-c1b479ed1a19"
      },
      "execution_count": 22,
      "outputs": [
        {
          "output_type": "stream",
          "name": "stdout",
          "text": [
            "lunes\n",
            "viernes\n",
            "lunes\n",
            "['lunes', 'martes', 'miercoles', 'jueves', 'viernes', 'sabado', 'domingo ']\n",
            "['rojo', 'amarillo', 'azul', 'rojo', 'amarillo', 'azul', 'rojo', 'amarillo', 'azul']\n"
          ]
        }
      ]
    },
    {
      "cell_type": "markdown",
      "source": [
        "## funciones asociadas a las listas"
      ],
      "metadata": {
        "id": "8r4sU7AHUJad"
      }
    },
    {
      "cell_type": "code",
      "source": [
        "dias_laborables = ['lunes','martes','miercoles','jueves','viernes']\n",
        "\n",
        "colores_primarios = ['rojo','amarillo','azul']\n",
        "\n",
        "precios = [205.30, 107.18, 25, 450, 310.89, 170.23, 340 ]\n",
        "\n",
        "pares = list(range(0, 30, 2))\n",
        "print(lista_3)\n",
        "\n",
        "impares = list(range(29, 0, -2))\n",
        "print(lista_4)\n",
        "\n",
        "colores_primarios = colores_primarios * 3\n",
        "\n",
        "# append(): agrega un elemento al final  de la lista\n",
        "dias_laborables.append(\"sabado\")\n",
        "print(dias_laborables)\n",
        "\n",
        "# len(): total de elementos de la lista\n",
        "print(\"total de precios = \" , len(precios))\n",
        "\n",
        "# count(): cuenta el numero de veces  que aparece un elemento en la lista\n",
        "print(f\"el lunes aparece {dias_laborables.count('lunes')} vez(veces)\")\n",
        "\n",
        "# insert(): agrega en la posicion indicada por el indice el nuevo valor, desplazando los demas elementos hacia la derecha. Si el indice es mayor al tamaño  de la lista, lo agrega al final\n",
        "\n",
        "colores_primarios.insert(2,\"verde\")\n",
        "print(colores_primarios)\n",
        "\n",
        "#remove: quita el elemento de la lista. Si l elemento no esta lanza una  exepcion.\n",
        "\n",
        "dias_laborables.remove(\"sabado\")\n",
        "print(dias_laborables)\n",
        "\n",
        "# sort(): ordena la lista de menor a mayor\n",
        "precios.sort()\n",
        "print(precios)\n",
        "\n",
        "precios.sort(reverse=True)\n",
        "print(precios)\n",
        "\n",
        "# reverse():\n",
        "\n",
        "#pop():\n",
        "\n",
        "# clear():\n",
        "\n",
        "# del():"
      ],
      "metadata": {
        "colab": {
          "base_uri": "https://localhost:8080/"
        },
        "id": "_TpPIHudUVGK",
        "outputId": "4c5cf856-30e6-441a-f9a4-91fdaf257ff6"
      },
      "execution_count": 30,
      "outputs": [
        {
          "output_type": "stream",
          "name": "stdout",
          "text": [
            "[0, 2, 4, 6, 8, 10, 12, 14, 16, 18, 20, 22, 24, 26, 28]\n",
            "[29, 27, 25, 23, 21, 19, 17, 15, 13, 11, 9, 7, 5, 3, 1]\n",
            "['lunes', 'martes', 'miercoles', 'jueves', 'viernes', 'sabado']\n",
            "total de precios =  7\n",
            "el lunes aparece 1 vez(veces)\n",
            "['rojo', 'amarillo', 'verde', 'azul', 'rojo', 'amarillo', 'azul', 'rojo', 'amarillo', 'azul']\n",
            "['lunes', 'martes', 'miercoles', 'jueves', 'viernes']\n",
            "[25, 107.18, 170.23, 205.3, 310.89, 340, 450]\n",
            "[450, 340, 310.89, 205.3, 170.23, 107.18, 25]\n"
          ]
        }
      ]
    },
    {
      "cell_type": "markdown",
      "source": [
        "## particion o division de listas (slicing o rebanadas)\n",
        "\n",
        "- se pueden generar sublistas a partir de una lista por medio de l particion (division) o slicing\n",
        "- para obtener  una sublista se usa la sintaxis: ```sublista = lista[inicio:fin:n]```"
      ],
      "metadata": {
        "id": "aJo0Dgw3gCWz"
      }
    },
    {
      "cell_type": "code",
      "source": [
        "# se crea una lista de numros enteros\n",
        "lista_1 = [1,2,3,4,5,6]\n",
        "\n",
        "# sublista con los elementos  de las posiciones 0 a la 2 inclusive\n",
        "sublista_1 =  lista_1[0:3]\n",
        "print(sublista_1)\n",
        "\n",
        "# sublista con elementos 0 a la 3 inclusive\n",
        "sublista_2 = lista_1[:4]\n",
        "print(sublista_2)\n",
        "\n",
        "# sublista con los elementos 3 a la 5 inclusive\n",
        "sublista_3 = lista_1[3:]\n",
        "print(sublista_3)\n",
        "\n",
        "# sublista con los elementos  desde el inicio hasta el final, con  saltos a 2\n",
        "sublista_4 = lista_1[::2]\n",
        "print(sublista_4)\n"
      ],
      "metadata": {
        "colab": {
          "base_uri": "https://localhost:8080/"
        },
        "id": "q4sZy1_eg5X7",
        "outputId": "fd78d2fd-3460-4dfc-dce0-26fe96db653c"
      },
      "execution_count": 31,
      "outputs": [
        {
          "output_type": "stream",
          "name": "stdout",
          "text": [
            "[1, 2, 3]\n",
            "[1, 2, 3, 4]\n",
            "[4, 5, 6]\n",
            "[1, 3, 5]\n"
          ]
        }
      ]
    }
  ]
}